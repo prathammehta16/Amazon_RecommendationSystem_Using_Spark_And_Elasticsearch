{
 "cells": [
  {
   "cell_type": "code",
   "execution_count": 2,
   "id": "0364cc5c",
   "metadata": {},
   "outputs": [
    {
     "name": "stdout",
     "output_type": "stream",
     "text": [
      "Name: elasticsearch\n",
      "Version: 7.6.0\n",
      "Summary: Python client for Elasticsearch\n",
      "Home-page: https://github.com/elastic/elasticsearch-py\n",
      "Author: Honza Král, Nick Lang\n",
      "Author-email: honza.kral@gmail.com, nick@nicklang.com\n",
      "License: Apache-2.0\n",
      "Location: c:\\users\\mehta\\anaconda3\\envs\\py37\\lib\\site-packages\n",
      "Requires: urllib3\n",
      "Required-by: \n",
      "Note: you may need to restart the kernel to use updated packages.\n"
     ]
    }
   ],
   "source": [
    "pip show elasticsearch"
   ]
  },
  {
   "cell_type": "code",
   "execution_count": 3,
   "id": "f2c86a48",
   "metadata": {},
   "outputs": [],
   "source": [
    "from elasticsearch import Elasticsearch"
   ]
  },
  {
   "cell_type": "code",
   "execution_count": 4,
   "id": "92f92fe1",
   "metadata": {},
   "outputs": [],
   "source": [
    "es = Elasticsearch([{'host': 'localhost', 'port': 9200, 'scheme': 'http'}])"
   ]
  },
  {
   "cell_type": "code",
   "execution_count": 5,
   "id": "e71929c8",
   "metadata": {},
   "outputs": [
    {
     "data": {
      "text/plain": [
       "{'name': 'DESKTOP-Q5T87SF',\n",
       " 'cluster_name': 'elasticsearch',\n",
       " 'cluster_uuid': 'muA08ndyRfWSDgYcA-aCaQ',\n",
       " 'version': {'number': '7.6.2',\n",
       "  'build_flavor': 'default',\n",
       "  'build_type': 'zip',\n",
       "  'build_hash': 'ef48eb35cf30adf4db14086e8aabd07ef6fb113f',\n",
       "  'build_date': '2020-03-26T06:34:37.794943Z',\n",
       "  'build_snapshot': False,\n",
       "  'lucene_version': '8.4.0',\n",
       "  'minimum_wire_compatibility_version': '6.8.0',\n",
       "  'minimum_index_compatibility_version': '6.0.0-beta1'},\n",
       " 'tagline': 'You Know, for Search'}"
      ]
     },
     "execution_count": 5,
     "metadata": {},
     "output_type": "execute_result"
    }
   ],
   "source": [
    "es.info()"
   ]
  },
  {
   "cell_type": "code",
   "execution_count": 6,
   "id": "7c93be72",
   "metadata": {},
   "outputs": [
    {
     "name": "stdout",
     "output_type": "stream",
     "text": [
      "Python 3.7.16\n"
     ]
    }
   ],
   "source": [
    "!python --version"
   ]
  },
  {
   "cell_type": "code",
   "execution_count": 7,
   "id": "e275a3f0",
   "metadata": {},
   "outputs": [
    {
     "name": "stdout",
     "output_type": "stream",
     "text": [
      "2.4.5\n"
     ]
    }
   ],
   "source": [
    "import pyspark\n",
    "print(pyspark.__version__)"
   ]
  },
  {
   "cell_type": "code",
   "execution_count": 8,
   "id": "630b7b16",
   "metadata": {},
   "outputs": [],
   "source": [
    "from pyspark.sql import SparkSession\n",
    "from pyspark.sql import *\n",
    "from pyspark.sql.functions import *"
   ]
  },
  {
   "cell_type": "code",
   "execution_count": 9,
   "id": "aab66e15",
   "metadata": {},
   "outputs": [],
   "source": [
    "from pyspark.sql import SparkSession\n",
    "\n",
    "spark = SparkSession.builder \\\n",
    "        .appName(\"Amazon Proucts Recommender\") \\\n",
    "        .config(\"spark.driver.extraClassPath\", \"C:/Users/MEHTA/Desktop/Recommend_System/elasticsearch-hadoop-7.6.2/dist/elasticsearch-spark-20_2.11-7.6.2.jar\") \\\n",
    "        .config(\"spark.executor.extraClassPath\", \"C:/Users/MEHTA/Desktop/Recommend_System/elasticsearch-hadoop-7.6.2/dist/elasticsearch-spark-20_2.11-7.6.2.jar\") \\\n",
    "        .config(\"spark.es.nodes\", \"localhost\") \\\n",
    "        .config(\"spark.es.port\", \"9200\") \\\n",
    "        .config(\"spark.es.nodes.wan.only\", \"true\") \\\n",
    "        .getOrCreate()\n",
    "\n"
   ]
  },
  {
   "cell_type": "code",
   "execution_count": 10,
   "id": "ba895694",
   "metadata": {},
   "outputs": [
    {
     "data": {
      "text/html": [
       "\n",
       "            <div>\n",
       "                <p><b>SparkSession - in-memory</b></p>\n",
       "                \n",
       "        <div>\n",
       "            <p><b>SparkContext</b></p>\n",
       "\n",
       "            <p><a href=\"http://DESKTOP-Q5T87SF:4040\">Spark UI</a></p>\n",
       "\n",
       "            <dl>\n",
       "              <dt>Version</dt>\n",
       "                <dd><code>v2.4.5</code></dd>\n",
       "              <dt>Master</dt>\n",
       "                <dd><code>local[*]</code></dd>\n",
       "              <dt>AppName</dt>\n",
       "                <dd><code>Amazon Proucts Recommender</code></dd>\n",
       "            </dl>\n",
       "        </div>\n",
       "        \n",
       "            </div>\n",
       "        "
      ],
      "text/plain": [
       "<pyspark.sql.session.SparkSession at 0x212aa5ce1c8>"
      ]
     },
     "execution_count": 10,
     "metadata": {},
     "output_type": "execute_result"
    }
   ],
   "source": [
    "from IPython.display import Image, HTML, display\n",
    "spark"
   ]
  },
  {
   "cell_type": "code",
   "execution_count": 13,
   "id": "3e4b9ce2",
   "metadata": {},
   "outputs": [
    {
     "name": "stdout",
     "output_type": "stream",
     "text": [
      "Collecting pandas\n",
      "  Downloading pandas-1.3.5-cp37-cp37m-win_amd64.whl (10.0 MB)\n",
      "     ---------------------------------------- 10.0/10.0 MB 5.0 MB/s eta 0:00:00\n",
      "Requirement already satisfied: python-dateutil>=2.7.3 in c:\\users\\mehta\\anaconda3\\envs\\py37\\lib\\site-packages (from pandas) (2.8.2)\n",
      "Requirement already satisfied: numpy>=1.17.3 in c:\\users\\mehta\\anaconda3\\envs\\py37\\lib\\site-packages (from pandas) (1.21.6)\n",
      "Requirement already satisfied: pytz>=2017.3 in c:\\users\\mehta\\anaconda3\\envs\\py37\\lib\\site-packages (from pandas) (2022.7)\n",
      "Requirement already satisfied: six>=1.5 in c:\\users\\mehta\\anaconda3\\envs\\py37\\lib\\site-packages (from python-dateutil>=2.7.3->pandas) (1.16.0)\n",
      "Installing collected packages: pandas\n",
      "Successfully installed pandas-1.3.5\n",
      "Note: you may need to restart the kernel to use updated packages.\n"
     ]
    }
   ],
   "source": [
    "pip install pandas"
   ]
  },
  {
   "cell_type": "code",
   "execution_count": 11,
   "id": "3be0c3e1",
   "metadata": {},
   "outputs": [
    {
     "data": {
      "text/html": [
       "<div>\n",
       "<style scoped>\n",
       "    .dataframe tbody tr th:only-of-type {\n",
       "        vertical-align: middle;\n",
       "    }\n",
       "\n",
       "    .dataframe tbody tr th {\n",
       "        vertical-align: top;\n",
       "    }\n",
       "\n",
       "    .dataframe thead th {\n",
       "        text-align: right;\n",
       "    }\n",
       "</style>\n",
       "<table border=\"1\" class=\"dataframe\">\n",
       "  <thead>\n",
       "    <tr style=\"text-align: right;\">\n",
       "      <th></th>\n",
       "      <th>asin</th>\n",
       "      <th>title</th>\n",
       "      <th>brand</th>\n",
       "      <th>category</th>\n",
       "      <th>main_category</th>\n",
       "      <th>image</th>\n",
       "    </tr>\n",
       "  </thead>\n",
       "  <tbody>\n",
       "    <tr>\n",
       "      <th>0</th>\n",
       "      <td>B000BEZV7M</td>\n",
       "      <td>Extech RH401 Triple Display Hygro Thermometer ...</td>\n",
       "      <td>Extech</td>\n",
       "      <td>[Appliances, Parts &amp; Accessories, Humidifier P...</td>\n",
       "      <td>Humidity Meters</td>\n",
       "      <td>None</td>\n",
       "    </tr>\n",
       "  </tbody>\n",
       "</table>\n",
       "</div>"
      ],
      "text/plain": [
       "         asin                                              title   brand  \\\n",
       "0  B000BEZV7M  Extech RH401 Triple Display Hygro Thermometer ...  Extech   \n",
       "\n",
       "                                            category    main_category image  \n",
       "0  [Appliances, Parts & Accessories, Humidifier P...  Humidity Meters  None  "
      ]
     },
     "execution_count": 11,
     "metadata": {},
     "output_type": "execute_result"
    }
   ],
   "source": [
    "import gzip\n",
    "import json\n",
    "from pyspark.sql.types import *\n",
    "\n",
    "\n",
    "def parse(path):\n",
    "    g = gzip.open(path, 'rb')\n",
    "    for l in g:\n",
    "        yield json.loads(l)\n",
    "\n",
    "        \n",
    "def getMetaData(path):\n",
    "    data = []\n",
    "    data_schema =  [\n",
    "                       StructField(\"asin\", StringType(), True),\n",
    "                       StructField(\"title\", StringType(), True),\n",
    "                       StructField(\"brand\", StringType(), True),\n",
    "                       StructField(\"category\", ArrayType(StringType(), True), True),\n",
    "                       StructField(\"main_category\", StringType(), True),\n",
    "                       StructField(\"image\", ArrayType(StringType(), True), True)\n",
    "                   ]\n",
    "    final_schema = StructType(fields=data_schema)\n",
    "    for d in parse(path):\n",
    "        review = {}\n",
    "        review['asin'] = d['asin']\n",
    "        review['title'] = d['title']\n",
    "        review['brand'] = d['brand']\n",
    "        review['category'] = d['category']\n",
    "#         print(d['category'])\n",
    "        review['main_category'] = next(reversed(d['category']), None) if len(d['category'])!= 0 else ''\n",
    "        if 'image' in d:\n",
    "          review['image'] = d['image']\n",
    "        else:\n",
    "          review['image'] = None\n",
    "        \n",
    "        data.append(review)\n",
    "\n",
    "    return spark.createDataFrame(data, schema=final_schema)\n",
    "\n",
    "product_data = getMetaData('C:/Users/MEHTA/Desktop/Recommend_System/meta_Appliances.json.gz')\n",
    "product_data = product_data.dropDuplicates(['asin'])\n",
    "product_data.limit(1).toPandas()\n"
   ]
  },
  {
   "cell_type": "code",
   "execution_count": 9,
   "id": "73c7cdb4",
   "metadata": {},
   "outputs": [
    {
     "name": "stdout",
     "output_type": "stream",
     "text": [
      "+--------------------+-----+\n",
      "|       main_category|count|\n",
      "+--------------------+-----+\n",
      "| Parts & Accessories| 4513|\n",
      "|Refrigerator Part...| 3733|\n",
      "|Washer Parts & Ac...| 2270|\n",
      "|Dishwasher Parts ...| 1790|\n",
      "|Range Parts & Acc...| 1710|\n",
      "|       Water Filters| 1572|\n",
      "|   Replacement Parts| 1556|\n",
      "|Cooktop Parts & A...| 1171|\n",
      "|         Range Hoods|  951|\n",
      "|Humidifier Parts ...|  887|\n",
      "|                    |  805|\n",
      "|       Refrigerators|  722|\n",
      "|Oven Parts & Acce...|  645|\n",
      "|          Ice Makers|  453|\n",
      "|            Cooktops|  436|\n",
      "| Freestanding Ranges|  412|\n",
      "|               Knobs|  406|\n",
      "|Freezer Parts & A...|  360|\n",
      "|Built-In Dishwashers|  357|\n",
      "|         Accessories|  341|\n",
      "|             Washers|  302|\n",
      "|                Bins|  273|\n",
      "|              Dryers|  253|\n",
      "|               Vents|  243|\n",
      "|Dryer Parts & Acc...|  235|\n",
      "|              Motors|  224|\n",
      "|             Filters|  213|\n",
      "|     Humidity Meters|  185|\n",
      "|   Replacement Wicks|  177|\n",
      "|Refrigerators, Fr...|  175|\n",
      "|Ranges, Ovens & C...|  169|\n",
      "|Range Hood Parts ...|  162|\n",
      "|           Drip Pans|  160|\n",
      "|             Shelves|  140|\n",
      "|Beverage Refriger...|  137|\n",
      "|             Burners|  130|\n",
      "|        Lint Screens|  123|\n",
      "|             Handles|  118|\n",
      "|   Single Wall Ovens|  108|\n",
      "|         Drain Pumps|  107|\n",
      "|               Hoses|   87|\n",
      "|             Baskets|   85|\n",
      "|          Kegerators|   84|\n",
      "|              Ranges|   83|\n",
      "|Food Waste Dispos...|   82|\n",
      "|   Double Wall Ovens|   80|\n",
      "|    Upright Freezers|   73|\n",
      "|Parts &amp; Acces...|   71|\n",
      "|         Dishwashers|   61|\n",
      "|     Slide-In Ranges|   60|\n",
      "|      Chest Freezers|   55|\n",
      "|           Fasteners|   53|\n",
      "|    Plug Receptacles|   52|\n",
      "|    Washers & Dryers|   38|\n",
      "|Trash Compactor P...|   34|\n",
      "|Portable & Counte...|   33|\n",
      "|   Specialty Laundry|   32|\n",
      "|        Burner Rings|   31|\n",
      "|               Doors|   30|\n",
      "|Humidifier Parts ...|   28|\n",
      "|All-in-One Combin...|   27|\n",
      "|  Absorption Sleeves|   25|\n",
      "|Range Parts &amp;...|   22|\n",
      "|            Freezers|   22|\n",
      "|Combination Micro...|   21|\n",
      "|           Chemicals|   21|\n",
      "|             Blowers|   18|\n",
      "|Refrigerator Part...|   18|\n",
      "|Garbage Disposals...|   18|\n",
      "|  Laundry Appliances|   17|\n",
      "|          Wall Ovens|   16|\n",
      "|    Trash Compactors|   16|\n",
      "|Stacked Washer & ...|   12|\n",
      "|Dishwasher Parts ...|   12|\n",
      "|Washer Parts &amp...|   10|\n",
      "|     Warming Drawers|   10|\n",
      "|Range Hood Parts ...|    9|\n",
      "|Wine Cellar Parts...|    8|\n",
      "|Cooktop Parts &am...|    6|\n",
      "|              Grills|    6|\n",
      "|        Exhaust Fans|    6|\n",
      "|Portable &amp; Co...|    5|\n",
      "|Oven Parts &amp; ...|    4|\n",
      "|Refrigerators, Fr...|    3|\n",
      "|Trash Compactor P...|    3|\n",
      "|Dryer Parts &amp;...|    3|\n",
      "|Food Waste Dispos...|    3|\n",
      "|      Drop-In Ranges|    2|\n",
      "|Beverage Refriger...|    2|\n",
      "|Freezer Parts &am...|    2|\n",
      "|Ranges, Ovens &am...|    2|\n",
      "|Perfect for a Bri...|    1|\n",
      "|Combination Micro...|    1|\n",
      "|         Color: Pink|    1|\n",
      "|There is no diffe...|    1|\n",
      "|              XOP36S|    1|\n",
      "|Garbage Disposals...|    1|\n",
      "|Wine Cellar Parts...|    1|\n",
      "|        Quick-drying|    1|\n",
      "|This pump is inte...|    1|\n",
      "+--------------------+-----+\n",
      "only showing top 100 rows\n",
      "\n"
     ]
    }
   ],
   "source": [
    "product_data.groupBy(\"main_category\").count().orderBy(col('count').desc()).show(100)"
   ]
  },
  {
   "cell_type": "code",
   "execution_count": 52,
   "id": "f3d6c068",
   "metadata": {},
   "outputs": [
    {
     "name": "stdout",
     "output_type": "stream",
     "text": [
      "Number of rows:  30445\n",
      "Number of columns:  19\n",
      "                                            category  \\\n",
      "0  [Appliances, Refrigerators, Freezers & Ice Mak...   \n",
      "1  [Appliances, Refrigerators, Freezers & Ice Mak...   \n",
      "2              [Appliances, Parts &amp; Accessories]   \n",
      "3                  [Appliances, Parts & Accessories]   \n",
      "4  [Appliances, Parts & Accessories, Range Parts ...   \n",
      "\n",
      "                                               tech1  \\\n",
      "0   class=\"a-keyvalue prodDetTable\" role=\"present...   \n",
      "1   class=\"a-keyvalue prodDetTable\" role=\"present...   \n",
      "2                                                      \n",
      "3   class=\"a-keyvalue prodDetTable\" role=\"present...   \n",
      "4   class=\"a-keyvalue prodDetTable\" role=\"present...   \n",
      "\n",
      "                                         description fit  \\\n",
      "0                                                 []       \n",
      "1  [2 X Tupperware Pure & Fresh Unique Covered Co...       \n",
      "2                                                 []       \n",
      "3  [Multi purpost descaler, especially suited to ...       \n",
      "4  [Full gauge and size beveled-edge; furnished w...       \n",
      "\n",
      "                                               title also_buy tech2  \\\n",
      "0  Tupperware Freezer Square Round Container Set ...       []         \n",
      "1  2 X Tupperware Pure &amp; Fresh Unique Covered...       []         \n",
      "2                    The Cigar - Moments of Pleasure       []         \n",
      "3               Caraselle 2X 50G Appliance Descalene       []         \n",
      "4  EATON Wiring 39CH-SP-L Arrow Hart 1-Gang Chrom...       []         \n",
      "\n",
      "            brand                                            feature  \\\n",
      "0      Tupperware  [Each 3-pc. set includes two 7/8-cup/200 mL an...   \n",
      "1      Tupperware  [2 X Tupperware Pure & Fresh Unique Covered Co...   \n",
      "2  The Cigar Book                                                 []   \n",
      "3       Caraselle                                                 []   \n",
      "4    EATON Wiring  [Returns will not be honored on this closeout ...   \n",
      "\n",
      "                                                rank  \\\n",
      "0             [>#39,745 in Appliances (See top 100)]   \n",
      "1              [>#6,118 in Appliances (See top 100)]   \n",
      "2  [>#1,861,816 in Home &amp; Kitchen (See Top 10...   \n",
      "3  [>#1,654,505 in Tools & Home Improvement (See ...   \n",
      "4  [>#3,066,990 in Tools & Home Improvement (See ...   \n",
      "\n",
      "                  also_view details                  main_cat similar_item  \\\n",
      "0                        []      {}                Appliances                \n",
      "1              [B004RUGHJW]      {}                Appliances                \n",
      "2  [B01HCAVSLK, 1632206579]      {}               Amazon Home                \n",
      "3                        []      {}  Tools & Home Improvement                \n",
      "4                        []      {}  Tools & Home Improvement                \n",
      "\n",
      "                date                                              price  \\\n",
      "0  November 19, 2008                                                      \n",
      "1       June 5, 2016                                              $3.62   \n",
      "2                                                               $150.26   \n",
      "3  December 17, 2014  .a-box-inner{background-color:#fff}#alohaBuyBo...   \n",
      "4   January 16, 2007                                              $3.43   \n",
      "\n",
      "         asin                                           imageURL  \\\n",
      "0  7301113188                                                 []   \n",
      "1  7861850250  [https://images-na.ssl-images-amazon.com/image...   \n",
      "2  8792559360  [https://images-na.ssl-images-amazon.com/image...   \n",
      "3  9792954481  [https://images-na.ssl-images-amazon.com/image...   \n",
      "4  B00002N5EL                                                 []   \n",
      "\n",
      "                                     imageURLHighRes  \n",
      "0                                                 []  \n",
      "1  [https://images-na.ssl-images-amazon.com/image...  \n",
      "2  [https://images-na.ssl-images-amazon.com/image...  \n",
      "3  [https://images-na.ssl-images-amazon.com/image...  \n",
      "4                                                 []  \n",
      "category           object\n",
      "tech1              object\n",
      "description        object\n",
      "fit                object\n",
      "title              object\n",
      "also_buy           object\n",
      "tech2              object\n",
      "brand              object\n",
      "feature            object\n",
      "rank               object\n",
      "also_view          object\n",
      "details            object\n",
      "main_cat           object\n",
      "similar_item       object\n",
      "date               object\n",
      "price              object\n",
      "asin               object\n",
      "imageURL           object\n",
      "imageURLHighRes    object\n",
      "dtype: object\n"
     ]
    }
   ],
   "source": [
    "import json\n",
    "import gzip\n",
    "import pandas as pd\n",
    "\n",
    "data = []\n",
    "with gzip.open('C:/Users/MEHTA/Desktop/Recommend_System/meta_Appliances.json.gz') as f:\n",
    "    for line in f:\n",
    "        data.append(json.loads(line.strip()))\n",
    "\n",
    "df = pd.DataFrame.from_dict(data)\n",
    "\n",
    "print(\"Number of rows: \", len(df))\n",
    "print(\"Number of columns: \", len(df.columns))\n",
    "\n",
    "print(df.head())\n",
    "\n",
    "print(df.dtypes)"
   ]
  },
  {
   "cell_type": "code",
   "execution_count": 13,
   "id": "87f417c4",
   "metadata": {},
   "outputs": [
    {
     "data": {
      "text/plain": [
       "Index(['category', 'tech1', 'description', 'fit', 'title', 'also_buy', 'tech2',\n",
       "       'brand', 'feature', 'rank', 'also_view', 'details', 'main_cat',\n",
       "       'similar_item', 'date', 'price', 'asin', 'imageURL', 'imageURLHighRes'],\n",
       "      dtype='object')"
      ]
     },
     "execution_count": 13,
     "metadata": {},
     "output_type": "execute_result"
    }
   ],
   "source": [
    "df.columns"
   ]
  },
  {
   "cell_type": "code",
   "execution_count": 17,
   "id": "69588ab0",
   "metadata": {},
   "outputs": [
    {
     "data": {
      "image/png": "[encoded data removed]",
      "text/plain": [
       "<Figure size 640x480 with 1 Axes>"
      ]
     },
     "metadata": {},
     "output_type": "display_data"
    }
   ],
   "source": [
    "import matplotlib.pyplot as plt\n",
    "\n",
    "brand_counts = df['brand'].value_counts().nlargest(15)\n",
    "plt.bar(brand_counts.index, brand_counts.values)\n",
    "plt.xticks(rotation=90)\n",
    "plt.title(\"Top 15 Brands by Count\")\n",
    "plt.xlabel(\"Brand\")\n",
    "plt.ylabel(\"Count\")\n",
    "plt.show()\n"
   ]
  },
  {
   "cell_type": "code",
   "execution_count": 18,
   "id": "56482dca",
   "metadata": {},
   "outputs": [
    {
     "data": {
      "image/png": "[encoded data removed]",
      "text/plain": [
       "<Figure size 640x480 with 1 Axes>"
      ]
     },
     "metadata": {},
     "output_type": "display_data"
    }
   ],
   "source": [
    "import matplotlib.pyplot as plt\n",
    "\n",
    "category_counts = df['main_cat'].value_counts().nlargest(15)\n",
    "plt.bar(category_counts.index, category_counts.values)\n",
    "plt.xticks(rotation=90)\n",
    "plt.title(\"Top 15 Categories by Count\")\n",
    "plt.xlabel(\"Category\")\n",
    "plt.ylabel(\"Count\")\n",
    "plt.show()\n"
   ]
  },
  {
   "cell_type": "code",
   "execution_count": 19,
   "id": "5ccef0a8",
   "metadata": {},
   "outputs": [
    {
     "data": {
      "image/png": "[encoded data removed]",
      "text/plain": [
       "<Figure size 640x480 with 1 Axes>"
      ]
     },
     "metadata": {},
     "output_type": "display_data"
    }
   ],
   "source": [
    "import matplotlib.pyplot as plt\n",
    "\n",
    "product_counts = df.groupby('title')['asin'].count().sort_values(ascending=False)[:15]\n",
    "plt.bar(product_counts.index, product_counts.values)\n",
    "plt.xticks(rotation=90)\n",
    "plt.title(\"Top 15 Selling Products\")\n",
    "plt.xlabel(\"Product\")\n",
    "plt.ylabel(\"Count\")\n",
    "plt.show()"
   ]
  },
  {
   "cell_type": "code",
   "execution_count": 46,
   "id": "6ea3b502",
   "metadata": {},
   "outputs": [
    {
     "name": "stdout",
     "output_type": "stream",
     "text": [
      "[('Genuine Replacement Part', 2530), ('This is an O.E.M. Authorized part', 2286), ('This is a genuine replacement part', 1323), ('Genuine OEM replacement part', 1037), ('Use genuine OEM parts for safety reliability and performance', 939), ('Frigidaire item', 783), ('General Electric (GENF0)', 756), ('Frigidaire (FRIGB)', 709), ('Whirlpool (WHIRA)', 635), ('All Our Parts Are Factory Approved For A Proper Fit', 588)]\n"
     ]
    }
   ],
   "source": [
    "from collections import Counter\n",
    "\n",
    "features = []\n",
    "for f in df['feature']:\n",
    "    if isinstance(f, list):\n",
    "        features.extend(f)\n",
    "        \n",
    "feature_counts = Counter(features)\n",
    "top_features = feature_counts.most_common(10)\n",
    "print(top_features)"
   ]
  },
  {
   "cell_type": "code",
   "execution_count": 48,
   "id": "1a49edae",
   "metadata": {},
   "outputs": [
    {
     "name": "stdout",
     "output_type": "stream",
     "text": [
      "Test Statistic: 360748.2302983758\n",
      "p-value: 0.0\n",
      "There is likely a significant relationship between brand and main category.\n"
     ]
    }
   ],
   "source": [
    "from scipy.stats import chi2_contingency\n",
    "\n",
    "observed = pd.crosstab(df['brand'], df['main_cat'])\n",
    "chi2, p, dof, expected = chi2_contingency(observed)\n",
    "\n",
    "print('Test Statistic:', chi2)\n",
    "print('p-value:', p)\n",
    "\n",
    "if p > 0.05:\n",
    "    print('There is likely no significant relationship between brand and main category')\n",
    "else:\n",
    "    print('There is likely a significant relationship between brand and main category')\n"
   ]
  },
  {
   "cell_type": "code",
   "execution_count": 50,
   "id": "47f99db2",
   "metadata": {},
   "outputs": [
    {
     "name": "stdout",
     "output_type": "stream",
     "text": [
      "Test Statistic: 11.186787062528738\n",
      "p-value: 1.0546783319141377e-26\n",
      "There is likely a significant difference in the mean price of stainless and non-stainless products.\n"
     ]
    }
   ],
   "source": [
    "from scipy.stats import ttest_ind\n",
    "\n",
    "stainless_prices = df[df['title'].str.contains('stainless', case=False)]['price'].dropna()\n",
    "non_stainless_prices = df[~df['title'].str.contains('stainless', case=False)]['price'].dropna()\n",
    "\n",
    "t, p = ttest_ind(stainless_prices, non_stainless_prices, equal_var=False)\n",
    "\n",
    "print('Test Statistic:', t)\n",
    "print('p-value:', p)\n",
    "\n",
    "if p > 0.05:\n",
    "    print('There is likely no significant difference in the mean price of stainless and non-stainless products.')\n",
    "else:\n",
    "    print('There is likely a significant difference in the mean price of stainless and non-stainless products.')\n",
    "\n"
   ]
  },
  {
   "cell_type": "code",
   "execution_count": 42,
   "id": "fdef10c7",
   "metadata": {},
   "outputs": [
    {
     "name": "stdout",
     "output_type": "stream",
     "text": [
      "Collecting statsmodels\n",
      "  Downloading statsmodels-0.13.5-cp37-cp37m-win_amd64.whl (9.1 MB)\n",
      "     ---------------------------------------- 9.1/9.1 MB 4.3 MB/s eta 0:00:00\n",
      "Collecting patsy>=0.5.2\n",
      "  Downloading patsy-0.5.3-py2.py3-none-any.whl (233 kB)\n",
      "     -------------------------------------- 233.8/233.8 kB 4.8 MB/s eta 0:00:00\n",
      "Requirement already satisfied: packaging>=21.3 in c:\\users\\mehta\\anaconda3\\envs\\py37\\lib\\site-packages (from statsmodels) (22.0)\n",
      "Requirement already satisfied: scipy<1.8,>=1.3 in c:\\users\\mehta\\anaconda3\\envs\\py37\\lib\\site-packages (from statsmodels) (1.7.3)\n",
      "Requirement already satisfied: pandas>=0.25 in c:\\users\\mehta\\anaconda3\\envs\\py37\\lib\\site-packages (from statsmodels) (1.3.5)\n",
      "Requirement already satisfied: numpy>=1.17 in c:\\users\\mehta\\anaconda3\\envs\\py37\\lib\\site-packages (from statsmodels) (1.21.6)\n",
      "Requirement already satisfied: python-dateutil>=2.7.3 in c:\\users\\mehta\\anaconda3\\envs\\py37\\lib\\site-packages (from pandas>=0.25->statsmodels) (2.8.2)\n",
      "Requirement already satisfied: pytz>=2017.3 in c:\\users\\mehta\\anaconda3\\envs\\py37\\lib\\site-packages (from pandas>=0.25->statsmodels) (2022.7)\n",
      "Requirement already satisfied: six in c:\\users\\mehta\\anaconda3\\envs\\py37\\lib\\site-packages (from patsy>=0.5.2->statsmodels) (1.16.0)\n",
      "Installing collected packages: patsy, statsmodels\n",
      "Successfully installed patsy-0.5.3 statsmodels-0.13.5\n",
      "Note: you may need to restart the kernel to use updated packages.\n"
     ]
    }
   ],
   "source": [
    "pip install statsmodels"
   ]
  },
  {
   "cell_type": "code",
   "execution_count": 43,
   "id": "cd2c6e35",
   "metadata": {},
   "outputs": [
    {
     "name": "stdout",
     "output_type": "stream",
     "text": [
      "               df        sum_sq       mean_sq         F  PR(>F)\n",
      "brand      2761.0  3.446344e+07  12482.232524  3.156577     0.0\n",
      "Residual  18228.0  7.208001e+07   3954.356745       NaN     NaN\n"
     ]
    }
   ],
   "source": [
    "from statsmodels.formula.api import ols\n",
    "from statsmodels.stats.anova import anova_lm\n",
    "\n",
    "# Create a linear model for price vs. brand\n",
    "model = ols('price ~ brand', data=df).fit()\n",
    "\n",
    "anova_results = anova_lm(model)\n",
    "print(anova_results)"
   ]
  },
  {
   "cell_type": "code",
   "execution_count": 16,
   "id": "37bc97cd",
   "metadata": {},
   "outputs": [
    {
     "name": "stdout",
     "output_type": "stream",
     "text": [
      "Created indices:\n",
      "{'acknowledged': True, 'shards_acknowledged': True, 'index': 'products'}\n"
     ]
    }
   ],
   "source": [
    "VECTOR_DIM = 25\n",
    "\n",
    "product_mapping = {\n",
    "    # this mapping definition sets up the metadata fields for the products\n",
    "    \"mappings\": {\n",
    "        \"properties\": {\n",
    "            \"asin\": {\n",
    "                \"type\": \"keyword\"\n",
    "            },\n",
    "            \"title\": {\n",
    "                \"type\": \"keyword\"\n",
    "            },\n",
    "            \"image\": {\n",
    "                \"type\": \"keyword\"\n",
    "            },\n",
    "            \"brand\": {\n",
    "                \"type\": \"keyword\"\n",
    "            },\n",
    "            \"category\": {\n",
    "                \"type\": \"keyword\"\n",
    "            },\n",
    "            \"main_category\": {\n",
    "                \"type\": \"keyword\"\n",
    "            },\n",
    "            # the following fields define our model factor vectors and metadata\n",
    "            \"model_factor\": {\n",
    "                \"type\": \"dense_vector\",\n",
    "                \"dims\" : VECTOR_DIM\n",
    "            },\n",
    "            \"model_version\": {\n",
    "                \"type\": \"keyword\"\n",
    "            },\n",
    "            \"model_timestamp\": {\n",
    "                \"type\": \"date\"\n",
    "            }          \n",
    "        }\n",
    "    }\n",
    "}\n",
    "\n",
    "res_products = es.indices.create(index=\"products\", body=product_mapping)\n",
    "\n",
    "print(\"Created indices:\")\n",
    "print(res_products)"
   ]
  },
  {
   "cell_type": "code",
   "execution_count": 17,
   "id": "124e0415",
   "metadata": {},
   "outputs": [
    {
     "data": {
      "text/plain": [
       "0"
      ]
     },
     "execution_count": 17,
     "metadata": {},
     "output_type": "execute_result"
    }
   ],
   "source": [
    "es.count(index=\"products\")['count']"
   ]
  },
  {
   "cell_type": "code",
   "execution_count": 18,
   "id": "22b72084",
   "metadata": {},
   "outputs": [
    {
     "name": "stdout",
     "output_type": "stream",
     "text": [
      "Product DF count: 30239\n",
      "ES index count: 30239\n"
     ]
    }
   ],
   "source": [
    "product_data.write.format(\"es\").option(\"es.mapping.id\", \"asin\").save(\"products\")\n",
    "num_products_df = product_data.count()\n",
    "num_products_es = es.count(index=\"products\")['count']\n",
    "# check load went ok\n",
    "print(\"Product DF count: {}\".format(num_products_df))\n",
    "print(\"ES index count: {}\".format(num_products_es))"
   ]
  },
  {
   "cell_type": "code",
   "execution_count": 19,
   "id": "adb98564",
   "metadata": {},
   "outputs": [
    {
     "data": {
      "text/plain": [
       "{'took': 233,\n",
       " 'timed_out': False,\n",
       " '_shards': {'total': 1, 'successful': 1, 'skipped': 0, 'failed': 0},\n",
       " 'hits': {'total': {'value': 722, 'relation': 'eq'},\n",
       "  'max_score': 3.7342029,\n",
       "  'hits': [{'_index': 'products',\n",
       "    '_type': '_doc',\n",
       "    '_id': 'B00481Y9AY',\n",
       "    '_score': 3.7342029,\n",
       "    '_source': {'asin': 'B00481Y9AY',\n",
       "     'title': 'Electrolux Icon E23BC68JPS Professional 22.6 Cu. Ft. Stainless Steel Counter Depth French Door Refrigerator - Energy Star',\n",
       "     'brand': 'Electrolux',\n",
       "     'category': ['Appliances',\n",
       "      'Refrigerators, Freezers & Ice Makers',\n",
       "      'Refrigerators'],\n",
       "     'main_category': 'Refrigerators'}},\n",
       "   {'_index': 'products',\n",
       "    '_type': '_doc',\n",
       "    '_id': 'B004IMNTYK',\n",
       "    '_score': 3.7342029,\n",
       "    '_source': {'asin': 'B004IMNTYK',\n",
       "     'title': 'GE Cafe Series : CFCP1NIYSS 20.8 cu. ft. Counter-Depth French-Door Refrigerator',\n",
       "     'brand': 'General Electric',\n",
       "     'category': ['Appliances',\n",
       "      'Refrigerators, Freezers & Ice Makers',\n",
       "      'Refrigerators'],\n",
       "     'main_category': 'Refrigerators'}},\n",
       "   {'_index': 'products',\n",
       "    '_type': '_doc',\n",
       "    '_id': 'B00CF7M0V8',\n",
       "    '_score': 3.7342029,\n",
       "    '_source': {'asin': 'B00CF7M0V8',\n",
       "     'title': 'DMAFRIGFGHS2631PF - Frigidaire Gallery 25.6 Cu. Ft. Side-by-Side Refrigerator',\n",
       "     'brand': 'Frigidaire',\n",
       "     'category': ['Appliances',\n",
       "      'Refrigerators, Freezers & Ice Makers',\n",
       "      'Refrigerators'],\n",
       "     'main_category': 'Refrigerators'}}]}}"
      ]
     },
     "execution_count": 19,
     "metadata": {},
     "output_type": "execute_result"
    }
   ],
   "source": [
    "es.search(index=\"products\", q=\"main_category:Refrigerators\", size=3)"
   ]
  },
  {
   "cell_type": "code",
   "execution_count": 20,
   "id": "1e645e8f",
   "metadata": {},
   "outputs": [
    {
     "data": {
      "text/html": [
       "<div>\n",
       "<style scoped>\n",
       "    .dataframe tbody tr th:only-of-type {\n",
       "        vertical-align: middle;\n",
       "    }\n",
       "\n",
       "    .dataframe tbody tr th {\n",
       "        vertical-align: top;\n",
       "    }\n",
       "\n",
       "    .dataframe thead th {\n",
       "        text-align: right;\n",
       "    }\n",
       "</style>\n",
       "<table border=\"1\" class=\"dataframe\">\n",
       "  <thead>\n",
       "    <tr style=\"text-align: right;\">\n",
       "      <th></th>\n",
       "      <th>asin</th>\n",
       "      <th>reviewerId</th>\n",
       "      <th>rating</th>\n",
       "    </tr>\n",
       "  </thead>\n",
       "  <tbody>\n",
       "    <tr>\n",
       "      <th>0</th>\n",
       "      <td>1118461304</td>\n",
       "      <td>A3NHUQ33CFH3VM</td>\n",
       "      <td>5.0</td>\n",
       "    </tr>\n",
       "    <tr>\n",
       "      <th>1</th>\n",
       "      <td>1118461304</td>\n",
       "      <td>A3SK6VNBQDNBJE</td>\n",
       "      <td>5.0</td>\n",
       "    </tr>\n",
       "    <tr>\n",
       "      <th>2</th>\n",
       "      <td>1118461304</td>\n",
       "      <td>A3SOFHUR27FO3K</td>\n",
       "      <td>5.0</td>\n",
       "    </tr>\n",
       "  </tbody>\n",
       "</table>\n",
       "</div>"
      ],
      "text/plain": [
       "         asin      reviewerId  rating\n",
       "0  1118461304  A3NHUQ33CFH3VM     5.0\n",
       "1  1118461304  A3SK6VNBQDNBJE     5.0\n",
       "2  1118461304  A3SOFHUR27FO3K     5.0"
      ]
     },
     "execution_count": 20,
     "metadata": {},
     "output_type": "execute_result"
    }
   ],
   "source": [
    "def getRatingData(path):\n",
    "    data = []\n",
    "    data_schema = [\n",
    "               StructField(\"asin\", StringType(), True),\n",
    "               StructField(\"reviewerId\", StringType(), True),\n",
    "               StructField(\"rating\", FloatType(), True)]\n",
    "    final_schema = StructType(fields=data_schema)\n",
    "    for d in parse(path):\n",
    "        review = {}\n",
    "        review['asin'] = d['asin']\n",
    "        review['reviewerId'] = d['reviewerID']\n",
    "        review['rating'] = d['overall']\n",
    "        data.append(review)\n",
    "#   print(df)\n",
    "    return spark.createDataFrame(data, schema=final_schema)\n",
    "\n",
    "df_rating= getRatingData('C:/Users/MEHTA/Desktop/Recommend_System/Appliances.json.gz')\n",
    "df_rating.limit(3).toPandas()"
   ]
  },
  {
   "cell_type": "code",
   "execution_count": 21,
   "id": "29c63ce2",
   "metadata": {},
   "outputs": [
    {
     "name": "stdout",
     "output_type": "stream",
     "text": [
      "+----------+--------------+------+----------+----------------+\n",
      "|      asin|    reviewerId|rating|asin_index|reviewerId_index|\n",
      "+----------+--------------+------+----------+----------------+\n",
      "|1118461304|A3NHUQ33CFH3VM|   5.0|    2250.0|           119.0|\n",
      "|1118461304|A3SK6VNBQDNBJE|   5.0|    2250.0|        154267.0|\n",
      "|1118461304|A3SOFHUR27FO3K|   5.0|    2250.0|         93964.0|\n",
      "|1118461304|A1HOG1PYCAE157|   5.0|    2250.0|        217964.0|\n",
      "|1118461304|A26JGAM6GZMM4V|   5.0|    2250.0|         79756.0|\n",
      "|1118461304|A17K8WANMYHTX2|   5.0|    2250.0|         82127.0|\n",
      "|1118461304|A13IW3A6W43U0G|   5.0|    2250.0|        410633.0|\n",
      "|1118461304|A1ECEGG1MP7J8J|   5.0|    2250.0|        417266.0|\n",
      "|1118461304|A2D5X9G9S3A7RN|   5.0|    2250.0|        414321.0|\n",
      "|1118461304| AP2F86JFRQ205|   5.0|    2250.0|         93636.0|\n",
      "|1118461304|A3VF3A5A3O04E1|   4.0|    2250.0|        252906.0|\n",
      "|1118461304|A14DW5UMQ1M96O|   5.0|    2250.0|        395199.0|\n",
      "|1118461304|A2V7UVKOFG57IW|   4.0|    2250.0|        255448.0|\n",
      "|1118461304|A2BM5NTLX7CES1|   4.0|    2250.0|        158878.0|\n",
      "|1118461304|A1EQ5D5JRSW23K|   5.0|    2250.0|         38276.0|\n",
      "|1118461304|A1R2JUOGIYH6HO|   4.0|    2250.0|        335346.0|\n",
      "|1118461304|A3JRW716H3AX14|   5.0|    2250.0|        112619.0|\n",
      "|1118461304|A3KGLXW3EYDTUH|   4.0|    2250.0|        117231.0|\n",
      "|1118461304|A1B70ZEWQ6UH1A|   3.0|    2250.0|        357820.0|\n",
      "|1118461304|A2I5QME4S7CLFI|   5.0|    2250.0|        422299.0|\n",
      "+----------+--------------+------+----------+----------------+\n",
      "only showing top 20 rows\n",
      "\n"
     ]
    }
   ],
   "source": [
    "from pyspark.ml.evaluation import RegressionEvaluator\n",
    "from pyspark.ml.recommendation import ALS\n",
    "\n",
    "from pyspark.ml.feature import StringIndexer\n",
    "from pyspark.ml import Pipeline\n",
    "from pyspark.sql.functions import col\n",
    "\n",
    "indexer = [StringIndexer(inputCol=column, outputCol=column+\"_index\") for column in list(set(df_rating.columns)-set(['rating'])) ]\n",
    "pipeline = Pipeline(stages=indexer)\n",
    "transformed = pipeline.fit(df_rating).transform(df_rating)\n",
    "transformed.show()"
   ]
  },
  {
   "cell_type": "code",
   "execution_count": 22,
   "id": "a2deb5b8",
   "metadata": {},
   "outputs": [],
   "source": [
    "als=ALS(maxIter=5,regParam=0.09,rank=25,userCol=\"reviewerId_index\",itemCol=\"asin_index\",ratingCol=\"rating\",coldStartStrategy=\"drop\",nonnegative=True)\n",
    "model=als.fit(transformed)"
   ]
  },
  {
   "cell_type": "code",
   "execution_count": 23,
   "id": "95bd2fda",
   "metadata": {},
   "outputs": [
    {
     "data": {
      "text/plain": [
       "30252"
      ]
     },
     "execution_count": 23,
     "metadata": {},
     "output_type": "execute_result"
    }
   ],
   "source": [
    "model.itemFactors.count()"
   ]
  },
  {
   "cell_type": "code",
   "execution_count": 24,
   "id": "95897235",
   "metadata": {},
   "outputs": [
    {
     "name": "stdout",
     "output_type": "stream",
     "text": [
      "RMSE=0.20292685168969118\n",
      "+----------+--------------+------+----------+----------------+----------+\n",
      "|      asin|    reviewerId|rating|asin_index|reviewerId_index|prediction|\n",
      "+----------+--------------+------+----------+----------------+----------+\n",
      "|B00O7U6I0A|  AAY8D7NED9Y0|   3.0|     148.0|         85332.0| 2.8259833|\n",
      "|B00O7U6I0A| A6WVTBT0OQNAA|   4.0|     148.0|        186109.0| 3.7679777|\n",
      "|B00O7U6I0A|A1MW9HF5CHHGVQ|   5.0|     148.0|        477757.0| 4.7099724|\n",
      "|B00O7U6I0A| A75NMGDPVNRPW|   5.0|     148.0|        144252.0| 4.7099724|\n",
      "|B00O7U6I0A|A3VSBETWOE38X4|   5.0|     148.0|        277600.0| 4.7099724|\n",
      "|B00O7U6I0A|A1GE1E8GQ03JOR|   5.0|     148.0|        170021.0| 4.7099724|\n",
      "|B00O7U6I0A| AX483DP66N6KM|   5.0|     148.0|        188393.0| 4.7099724|\n",
      "|B00O7U6I0A| AQ5JMOM97XIAH|   5.0|     148.0|        279158.0| 4.7099724|\n",
      "|B00O7U6I0A|A21HJYABIF2QN2|   4.0|     148.0|        285973.0| 3.7679777|\n",
      "|B00O7U6I0A| AWLZGGS0IP8PZ|   1.0|     148.0|        302473.0| 0.9419944|\n",
      "|B00O7U6I0A|A2HVN06XNQGZV6|   5.0|     148.0|        408586.0| 4.7099724|\n",
      "|B00O7U6I0A|A3Q59DTHL555W4|   2.0|     148.0|        297146.0| 1.8839889|\n",
      "|B00O7U6I0A|A3U4Y1PBBESEHJ|   4.0|     148.0|        436413.0| 3.7679777|\n",
      "|B00O7U6I0A|A33K9GH5ZJJWM4|   4.0|     148.0|         55762.0|  3.680226|\n",
      "|B00O7U6I0A|A3T5N36THD8WUF|   5.0|     148.0|         89296.0| 4.7099724|\n",
      "|B00O7U6I0A|A1S7KBP2DD9D7M|   4.0|     148.0|        119299.0| 3.7679777|\n",
      "|B00O7U6I0A| ADHV2EO6GAU8J|   5.0|     148.0|        424204.0| 4.7099724|\n",
      "|B00O7U6I0A|A1JWCZT1DGIO9H|   5.0|     148.0|        429244.0| 4.7099724|\n",
      "|B00O7U6I0A|A11BWGJV47IUP1|   5.0|     148.0|        458098.0| 4.7099724|\n",
      "|B00O7U6I0A|A39JI7FCWS83OP|   5.0|     148.0|         92852.0| 4.7099724|\n",
      "+----------+--------------+------+----------+----------------+----------+\n",
      "only showing top 20 rows\n",
      "\n"
     ]
    }
   ],
   "source": [
    "evaluator=RegressionEvaluator(metricName=\"rmse\",labelCol=\"rating\",predictionCol=\"prediction\")\n",
    "predictions=model.transform(transformed)\n",
    "rmse=evaluator.evaluate(predictions)\n",
    "print(\"RMSE=\"+str(rmse))\n",
    "predictions.show()"
   ]
  },
  {
   "cell_type": "code",
   "execution_count": 25,
   "id": "57011e26",
   "metadata": {},
   "outputs": [
    {
     "name": "stdout",
     "output_type": "stream",
     "text": [
      "+---+--------------------+----------------+---------------+\n",
      "| id|        model_factor|   model_version|model_timestamp|\n",
      "+---+--------------------+----------------+---------------+\n",
      "|  0|[0.14899047, 0.29...|ALS_c7f033e91daa|     1678107708|\n",
      "| 10|[0.6747888, 0.778...|ALS_c7f033e91daa|     1678107708|\n",
      "+---+--------------------+----------------+---------------+\n",
      "only showing top 2 rows\n",
      "\n"
     ]
    }
   ],
   "source": [
    "from pyspark.sql.functions import lit, current_timestamp, unix_timestamp\n",
    "ver = model.uid\n",
    "ts = unix_timestamp(current_timestamp())\n",
    "product_vectors = model.itemFactors.select(\"id\",\\\n",
    "                                         col(\"features\").alias(\"model_factor\"),\\\n",
    "                                         lit(ver).alias(\"model_version\"),\\\n",
    "                                         ts.alias(\"model_timestamp\"))\n",
    "product_vectors.show(2)"
   ]
  },
  {
   "cell_type": "code",
   "execution_count": 26,
   "id": "1efea86f",
   "metadata": {},
   "outputs": [
    {
     "name": "stdout",
     "output_type": "stream",
     "text": [
      "+--------------------+----------------+---------------+----------+\n",
      "|        model_factor|   model_version|model_timestamp|      asin|\n",
      "+--------------------+----------------+---------------+----------+\n",
      "|[0.14899047, 0.29...|ALS_c7f033e91daa|     1678107722|B000AST3AK|\n",
      "|[0.6747888, 0.778...|ALS_c7f033e91daa|     1678107722|B0006GVNOA|\n",
      "|[0.3389667, 0.147...|ALS_c7f033e91daa|     1678107722|B01CTNA1VI|\n",
      "|[0.038615707, 0.1...|ALS_c7f033e91daa|     1678107722|B00126NABC|\n",
      "|[0.07092337, 0.15...|ALS_c7f033e91daa|     1678107722|B00UB441HS|\n",
      "|[0.1494115, 0.226...|ALS_c7f033e91daa|     1678107722|B0042U16YI|\n",
      "|[0.09165776, 0.06...|ALS_c7f033e91daa|     1678107722|B00W0W8LMK|\n",
      "|[0.0, 0.48103482,...|ALS_c7f033e91daa|     1678107722|B004XLDE5A|\n",
      "|[0.04552404, 0.08...|ALS_c7f033e91daa|     1678107722|B00W0WXHCO|\n",
      "|[0.031626236, 0.0...|ALS_c7f033e91daa|     1678107722|B00NIZ0DV0|\n",
      "+--------------------+----------------+---------------+----------+\n",
      "only showing top 10 rows\n",
      "\n"
     ]
    }
   ],
   "source": [
    "asin_index_meta = [\n",
    "    f.metadata for f in transformed.schema.fields if f.name == \"asin_index\"]\n",
    "asin_index_labels = asin_index_meta[0][\"ml_attr\"][\"vals\"]\n",
    "\n",
    "from pyspark.ml.feature import IndexToString\n",
    "\n",
    "reviewerId_converter = IndexToString(inputCol=\"id\", outputCol=\"asin\",   labels=asin_index_labels)\n",
    "PredictedLabels = reviewerId_converter.transform(product_vectors)\n",
    "PredictedLabels = PredictedLabels.drop('id')\n",
    "PredictedLabels.show(10)"
   ]
  },
  {
   "cell_type": "code",
   "execution_count": 27,
   "id": "8a250cac",
   "metadata": {},
   "outputs": [
    {
     "data": {
      "text/plain": [
       "30252"
      ]
     },
     "execution_count": 27,
     "metadata": {},
     "output_type": "execute_result"
    }
   ],
   "source": [
    "PredictedLabels.count()"
   ]
  },
  {
   "cell_type": "code",
   "execution_count": 28,
   "id": "05fc9cec",
   "metadata": {},
   "outputs": [],
   "source": [
    "PredictedLabels.write.format(\"es\") \\\n",
    "    .option(\"es.mapping.id\", \"asin\") \\\n",
    "    .option(\"es.write.operation\", \"upsert\") \\\n",
    "    .save(\"products\", mode=\"append\")"
   ]
  },
  {
   "cell_type": "code",
   "execution_count": 35,
   "id": "fc21aa1b",
   "metadata": {},
   "outputs": [],
   "source": [
    "import pandas as pd\n",
    "def vector_query(query_vec, category,vector_field, cosine=False):\n",
    "    \n",
    "    \n",
    "    if cosine:\n",
    "        score_fn = \"doc['{v}'].size() == 0 ? 0 : cosineSimilarity(params.vector, '{v}') + 1.0\"\n",
    "    else:\n",
    "        score_fn = \"doc['{v}'].size() == 0 ? 0 : sigmoid(1, Math.E, -dotProduct(params.vector, '{v}'))\"\n",
    "       \n",
    "    score_fn = score_fn.format(v=vector_field, fn=score_fn)\n",
    "    \n",
    "    return {\n",
    "    \"query\": {\n",
    "        \"script_score\": {\n",
    "            \"query\" : { \n",
    "                \"bool\" : {\n",
    "                      \"filter\" : {\n",
    "                            \"term\" : {\n",
    "                              \"main_category\" : category\n",
    "                            }\n",
    "                        }\n",
    "                }\n",
    "            },\n",
    "            \"script\": {\n",
    "                \"source\": score_fn,\n",
    "                \"params\": {\n",
    "                    \"vector\": query_vec\n",
    "                }\n",
    "            }\n",
    "        }\n",
    "    }\n",
    "}\n",
    "\n",
    "\n",
    "def get_similar(the_id, num=10, index=\"products\", vector_field='model_factor'):\n",
    "    \n",
    "    response = es.get(index=index, id=the_id)\n",
    "    src = response['_source']\n",
    "    if vector_field in src:\n",
    "        query_vec = src[vector_field]\n",
    "        category = src['main_category']\n",
    "        q = vector_query(query_vec, category,vector_field, cosine=True)\n",
    "#         print(q)\n",
    "        results = es.search(index=index, body=q)\n",
    "        hits = results['hits']['hits']\n",
    "        return src,hits[1:num+1]\n",
    "\n",
    "def display_similar(the_id, num=10, es_index=\"products\"):\n",
    "    \n",
    "    product, recs = get_similar(the_id, num, es_index)\n",
    "       \n",
    "    display(HTML(\"<h2>Get similar products for:</h2>\"))\n",
    "    display(HTML(\"<h4>%s (ASIN - %s)</h4>\" % (product['title'], product['asin'])))\n",
    "    display(HTML(\"<br>\"))\n",
    "    display(HTML(\"<h2>People who liked this product also liked these:</h2>\"))\n",
    "    sim_html = \"<table border=0>\"\n",
    "    i = 0\n",
    "    pd_data = []\n",
    "    for rec in recs:\n",
    "        r_score = rec['_score']\n",
    "        r_title = rec['_source']['title']\n",
    "        r = {}\n",
    "        r['asin'] = rec['_source']['asin']\n",
    "        r['title'] = r_title\n",
    "        r['score'] = r_score\n",
    "        pd_data.append(r)\n",
    "        r_im_url = next(iter(rec['_source'].get('image', [])), 'https://via.placeholder.com/150')\n",
    "        sim_html += \"<tr><td><h5>%s</h5><img src=%s width=150></img></td><td><h5>%2.3f</h5></td></tr>\" % (r_title, r_im_url, r_score)\n",
    "        i += 1\n",
    "    sim_html += \"</table>\"\n",
    "    pd.set_option('display.max_colwidth', -1) \n",
    "    pd_df = pd.DataFrame (pd_data)\n",
    "    display(HTML(pd_df.to_html()))\n",
    "    display(HTML(sim_html))\n"
   ]
  },
  {
   "cell_type": "code",
   "execution_count": 36,
   "id": "b017b950",
   "metadata": {},
   "outputs": [
    {
     "data": {
      "text/html": [
       "<h2>Get similar products for:</h2>"
      ],
      "text/plain": [
       "<IPython.core.display.HTML object>"
      ]
     },
     "metadata": {},
     "output_type": "display_data"
    },
    {
     "data": {
      "text/html": [
       "<h4> Dryer Heating Element 279838 For Whirlpool/Kenmore (ASIN - B001DHLGOS)</h4>"
      ],
      "text/plain": [
       "<IPython.core.display.HTML object>"
      ]
     },
     "metadata": {},
     "output_type": "display_data"
    },
    {
     "data": {
      "text/html": [
       "<br>"
      ],
      "text/plain": [
       "<IPython.core.display.HTML object>"
      ]
     },
     "metadata": {},
     "output_type": "display_data"
    },
    {
     "data": {
      "text/html": [
       "<h2>People who liked this product also liked these:</h2>"
      ],
      "text/plain": [
       "<IPython.core.display.HTML object>"
      ]
     },
     "metadata": {},
     "output_type": "display_data"
    },
    {
     "name": "stderr",
     "output_type": "stream",
     "text": [
      "C:\\Users\\MEHTA\\anaconda3\\envs\\py37\\lib\\site-packages\\ipykernel_launcher.py:98: FutureWarning: Passing a negative integer is deprecated in version 1.0 and will not be supported in future version. Instead, use None to not limit the column width.\n"
     ]
    },
    {
     "data": {
      "text/html": [
       "<table border=\"1\" class=\"dataframe\">\n",
       "  <thead>\n",
       "    <tr style=\"text-align: right;\">\n",
       "      <th></th>\n",
       "      <th>asin</th>\n",
       "      <th>title</th>\n",
       "      <th>score</th>\n",
       "    </tr>\n",
       "  </thead>\n",
       "  <tbody>\n",
       "    <tr>\n",
       "      <th>0</th>\n",
       "      <td>B00YFC0036</td>\n",
       "      <td>Edgewater Parts 5303937183 Felt Seal Compatible With Frigidaire Dryers</td>\n",
       "      <td>1.840724</td>\n",
       "    </tr>\n",
       "    <tr>\n",
       "      <th>1</th>\n",
       "      <td>B004XLDE5A</td>\n",
       "      <td>Whirlpool 279816 Thermostat Kit for Dryer</td>\n",
       "      <td>1.829426</td>\n",
       "    </tr>\n",
       "    <tr>\n",
       "      <th>2</th>\n",
       "      <td>B01FG5FGI4</td>\n",
       "      <td>ERP 8536974 Dryer Drum Support Roller</td>\n",
       "      <td>1.806863</td>\n",
       "    </tr>\n",
       "    <tr>\n",
       "      <th>3</th>\n",
       "      <td>B01AMN6526</td>\n",
       "      <td>Edgewater Parts 8536973 Dryer Roller Kit (4 Rollers, Washers &amp;amp; Clips) Compatible with Whirlpool Dryer</td>\n",
       "      <td>1.792631</td>\n",
       "    </tr>\n",
       "    <tr>\n",
       "      <th>4</th>\n",
       "      <td>B00D2J72PM</td>\n",
       "      <td>Femitu G4AP0500 TF091C HEK1 Replacement for whirlpool dryer Fuse 3392519 (Pack of 6)</td>\n",
       "      <td>1.790162</td>\n",
       "    </tr>\n",
       "  </tbody>\n",
       "</table>"
      ],
      "text/plain": [
       "<IPython.core.display.HTML object>"
      ]
     },
     "metadata": {},
     "output_type": "display_data"
    },
    {
     "data": {
      "text/html": [
       "<table border=0><tr><td><h5>Edgewater Parts 5303937183 Felt Seal Compatible With Frigidaire Dryers</h5><img src=https://via.placeholder.com/150 width=150></img></td><td><h5>1.841</h5></td></tr><tr><td><h5>Whirlpool 279816 Thermostat Kit for Dryer</h5><img src=https://via.placeholder.com/150 width=150></img></td><td><h5>1.829</h5></td></tr><tr><td><h5>ERP 8536974 Dryer Drum Support Roller</h5><img src=https://via.placeholder.com/150 width=150></img></td><td><h5>1.807</h5></td></tr><tr><td><h5>Edgewater Parts 8536973 Dryer Roller Kit (4 Rollers, Washers &amp; Clips) Compatible with Whirlpool Dryer</h5><img src=https://via.placeholder.com/150 width=150></img></td><td><h5>1.793</h5></td></tr><tr><td><h5>Femitu G4AP0500 TF091C HEK1 Replacement for whirlpool dryer Fuse 3392519 (Pack of 6)</h5><img src=https://via.placeholder.com/150 width=150></img></td><td><h5>1.790</h5></td></tr></table>"
      ],
      "text/plain": [
       "<IPython.core.display.HTML object>"
      ]
     },
     "metadata": {},
     "output_type": "display_data"
    }
   ],
   "source": [
    "from IPython.display import Image, HTML, display\n",
    "data = display_similar('B001DHLGOS', num=5)"
   ]
  },
  {
   "cell_type": "code",
   "execution_count": 32,
   "id": "f6b25dd6",
   "metadata": {},
   "outputs": [
    {
     "data": {
      "text/plain": [
       "({'asin': 'B0115XWE68',\n",
       "  'title': 'Pure Line Samsung DA29-00020B Compatible Water Filter - Refrigerator Also fits DA29-00020A,HAF-CIN EXP (1 Pack)',\n",
       "  'brand': 'Pure Line',\n",
       "  'category': ['Appliances',\n",
       "   'Parts & Accessories',\n",
       "   'Refrigerator Parts & Accessories',\n",
       "   'Water Filters'],\n",
       "  'main_category': 'Water Filters',\n",
       "  'model_timestamp': 1678107739,\n",
       "  'model_version': 'ALS_c7f033e91daa',\n",
       "  'model_factor': [0.064220354,\n",
       "   0.096522294,\n",
       "   0.38492224,\n",
       "   0.09276902,\n",
       "   0.07595274,\n",
       "   0.10085684,\n",
       "   0.06409809,\n",
       "   0.210212,\n",
       "   0.0681087,\n",
       "   0.34924108,\n",
       "   0.062268905,\n",
       "   0.08112002,\n",
       "   0.3554527,\n",
       "   0.4673012,\n",
       "   0.035622925,\n",
       "   0.09182951,\n",
       "   0.046059806,\n",
       "   0.210996,\n",
       "   0.6457841,\n",
       "   0.025093598,\n",
       "   0.2588551,\n",
       "   0.009066003,\n",
       "   0.09488342,\n",
       "   0.08967216,\n",
       "   0.038361244]},\n",
       " [{'_index': 'products',\n",
       "   '_type': '_doc',\n",
       "   '_id': 'B00UXG4WR8',\n",
       "   '_score': 1.8390888,\n",
       "   '_source': {'asin': 'B00UXG4WR8',\n",
       "    'title': 'EveryDrop by Whirlpool Refrigerator Water Filter 1 (Pack of 1) (Packaging may vary)',\n",
       "    'brand': 'EveryDrop by Whirlpool',\n",
       "    'category': ['Appliances',\n",
       "     'Parts & Accessories',\n",
       "     'Refrigerator Parts & Accessories',\n",
       "     'Water Filters'],\n",
       "    'main_category': 'Water Filters',\n",
       "    'model_timestamp': 1678107739,\n",
       "    'model_version': 'ALS_c7f033e91daa',\n",
       "    'model_factor': [0.10867489,\n",
       "     0.12994878,\n",
       "     0.14328061,\n",
       "     0.10442584,\n",
       "     0.17214799,\n",
       "     0.12775637,\n",
       "     0.21214114,\n",
       "     0.34946424,\n",
       "     0.13819395,\n",
       "     0.07287317,\n",
       "     0.14764495,\n",
       "     0.2500492,\n",
       "     0.12852392,\n",
       "     0.3933342,\n",
       "     0.21981809,\n",
       "     0.09370554,\n",
       "     0.070515186,\n",
       "     0.23120052,\n",
       "     0.69255835,\n",
       "     0.13182107,\n",
       "     0.07913909,\n",
       "     0.18831696,\n",
       "     0.12185731,\n",
       "     0.095072016,\n",
       "     0.107516006]}},\n",
       "  {'_index': 'products',\n",
       "   '_type': '_doc',\n",
       "   '_id': 'B01G0IY9YS',\n",
       "   '_score': 1.8145419,\n",
       "   '_source': {'asin': 'B01G0IY9YS',\n",
       "    'title': 'Odoga LT700P Refrigerator Water Filter Compatible with LG LT700P, ADQ36006101, LFX31925ST, ADQ36006102, LFX31945ST, LFX25991ST, Kenmore 46-9690 (2-Pack)',\n",
       "    'brand': 'Odoga',\n",
       "    'category': ['Appliances',\n",
       "     'Parts & Accessories',\n",
       "     'Refrigerator Parts & Accessories',\n",
       "     'Water Filters'],\n",
       "    'main_category': 'Water Filters',\n",
       "    'model_timestamp': 1678107739,\n",
       "    'model_version': 'ALS_c7f033e91daa',\n",
       "    'model_factor': [0.6901125,\n",
       "     0.10783617,\n",
       "     0.49771518,\n",
       "     0.034823433,\n",
       "     0.87001354,\n",
       "     0.5146241,\n",
       "     0.12241669,\n",
       "     0.10122162,\n",
       "     0.021491967,\n",
       "     0.52229494,\n",
       "     0.5249888,\n",
       "     0.79491055,\n",
       "     0.37504297,\n",
       "     0.75344557,\n",
       "     0.120028,\n",
       "     0.5698292,\n",
       "     0.0662965,\n",
       "     0.4524286,\n",
       "     1.4756106,\n",
       "     0.014678406,\n",
       "     1.2917733,\n",
       "     0.20925497,\n",
       "     0.040092357,\n",
       "     0.467359,\n",
       "     0.08753858]}},\n",
       "  {'_index': 'products',\n",
       "   '_type': '_doc',\n",
       "   '_id': 'B01BTEX6VA',\n",
       "   '_score': 1.8105294,\n",
       "   '_source': {'asin': 'B01BTEX6VA',\n",
       "    'title': 'Samsung DE63-00367G Microwave Charcoal Filter Genuine Original Equipment Manufacturer (OEM) Part',\n",
       "    'brand': 'Samsung',\n",
       "    'category': ['Appliances',\n",
       "     'Parts & Accessories',\n",
       "     'Refrigerator Parts & Accessories',\n",
       "     'Water Filters'],\n",
       "    'main_category': 'Water Filters',\n",
       "    'model_timestamp': 1678107739,\n",
       "    'model_version': 'ALS_c7f033e91daa',\n",
       "    'model_factor': [0.0,\n",
       "     0.0,\n",
       "     0.1899627,\n",
       "     0.0,\n",
       "     0.30200997,\n",
       "     0.0,\n",
       "     0.0,\n",
       "     0.2915691,\n",
       "     0.0,\n",
       "     0.44226223,\n",
       "     0.0,\n",
       "     0.45906976,\n",
       "     0.38590133,\n",
       "     0.4440151,\n",
       "     0.57052565,\n",
       "     0.0,\n",
       "     0.0,\n",
       "     0.0,\n",
       "     1.1761211,\n",
       "     0.0,\n",
       "     0.88771003,\n",
       "     0.0,\n",
       "     0.0,\n",
       "     0.0,\n",
       "     0.0]}},\n",
       "  {'_index': 'products',\n",
       "   '_type': '_doc',\n",
       "   '_id': 'B015SOYZKI',\n",
       "   '_score': 1.7860148,\n",
       "   '_source': {'asin': 'B015SOYZKI',\n",
       "    'title': '2-Pack Replacement Kenmore / Sears 9002 Refrigerator Water Filter - Compatible Kenmore / Sears 9002 Fridge Water Filter Cartridge',\n",
       "    'brand': 'Denali Pure',\n",
       "    'category': ['Appliances',\n",
       "     'Parts & Accessories',\n",
       "     'Refrigerator Parts & Accessories',\n",
       "     'Water Filters'],\n",
       "    'main_category': 'Water Filters',\n",
       "    'model_timestamp': 1678107739,\n",
       "    'model_version': 'ALS_c7f033e91daa',\n",
       "    'model_factor': [0.0,\n",
       "     0.8770206,\n",
       "     1.5117185,\n",
       "     0.0,\n",
       "     0.672255,\n",
       "     0.0,\n",
       "     0.6233719,\n",
       "     0.0,\n",
       "     0.0,\n",
       "     0.6872302,\n",
       "     0.0,\n",
       "     0.16338141,\n",
       "     0.0,\n",
       "     0.5194698,\n",
       "     0.0,\n",
       "     0.7393695,\n",
       "     0.0,\n",
       "     0.0,\n",
       "     3.507243,\n",
       "     0.86899173,\n",
       "     0.8353934,\n",
       "     0.0,\n",
       "     0.6098542,\n",
       "     0.54638654,\n",
       "     0.28695834]}},\n",
       "  {'_index': 'products',\n",
       "   '_type': '_doc',\n",
       "   '_id': 'B00YT7J2FO',\n",
       "   '_score': 1.7745404,\n",
       "   '_source': {'asin': 'B00YT7J2FO',\n",
       "    'title': '4-Pack Replacement DA29-00003G Water Filter for Samsung Refrigerators - Compatible with Samsung RSG257AARS, DA29-00003G, RFG237AARS, RF268ABRS, RF267AERS, RFG297AARS, RFG238AARS, RF266AEPN, RS2530BBP',\n",
       "    'brand': 'UpStart Appliance Parts',\n",
       "    'category': ['Appliances',\n",
       "     'Parts & Accessories',\n",
       "     'Refrigerator Parts & Accessories',\n",
       "     'Water Filters'],\n",
       "    'main_category': 'Water Filters',\n",
       "    'model_timestamp': 1678107739,\n",
       "    'model_version': 'ALS_c7f033e91daa',\n",
       "    'model_factor': [0.0032769253,\n",
       "     0.29332483,\n",
       "     1.275062,\n",
       "     0.0071351626,\n",
       "     0.00025006346,\n",
       "     0.0,\n",
       "     1.2644768,\n",
       "     0.5298923,\n",
       "     0.21098396,\n",
       "     1.5748734,\n",
       "     0.0039886343,\n",
       "     0.9374741,\n",
       "     0.47603163,\n",
       "     1.7228966,\n",
       "     1.0159038,\n",
       "     3.476388e-05,\n",
       "     0.0,\n",
       "     0.85757613,\n",
       "     1.1842295,\n",
       "     0.011256089,\n",
       "     0.010819759,\n",
       "     0.0,\n",
       "     1.5043541,\n",
       "     0.02948772,\n",
       "     0.009226141]}},\n",
       "  {'_index': 'products',\n",
       "   '_type': '_doc',\n",
       "   '_id': 'B00X3DWMS4',\n",
       "   '_score': 1.7732319,\n",
       "   '_source': {'asin': 'B00X3DWMS4',\n",
       "    'title': 'LG LT800P Refrigerator Water Filter, Filters up to 200 Gallons of Water, Compatible with Select LG French Door and Side-by-Side Refrigerators with SlimSpace Plus Ice System',\n",
       "    'brand': 'LG',\n",
       "    'category': ['Appliances',\n",
       "     'Parts & Accessories',\n",
       "     'Refrigerator Parts & Accessories',\n",
       "     'Water Filters'],\n",
       "    'main_category': 'Water Filters',\n",
       "    'model_timestamp': 1678107739,\n",
       "    'model_version': 'ALS_c7f033e91daa',\n",
       "    'model_factor': [0.31910193,\n",
       "     0.035972454,\n",
       "     0.56584024,\n",
       "     0.25176805,\n",
       "     0.028168006,\n",
       "     0.29458973,\n",
       "     0.058011927,\n",
       "     0.27385196,\n",
       "     0.038557336,\n",
       "     0.47131297,\n",
       "     0.063729174,\n",
       "     0.31859463,\n",
       "     0.020491693,\n",
       "     0.68235177,\n",
       "     0.046930082,\n",
       "     0.4877666,\n",
       "     0.051021412,\n",
       "     0.08130011,\n",
       "     0.52117825,\n",
       "     0.09484315,\n",
       "     0.53473777,\n",
       "     0.6513953,\n",
       "     0.39755282,\n",
       "     0.050511964,\n",
       "     0.04241204]}},\n",
       "  {'_index': 'products',\n",
       "   '_type': '_doc',\n",
       "   '_id': 'B00YD39SIU',\n",
       "   '_score': 1.7714106,\n",
       "   '_source': {'asin': 'B00YD39SIU',\n",
       "    'title': 'Replacement Maytag MSD2652KEB Refrigerator Water Filter - Compatible Maytag UKF8001 Fridge Water Filter Cartridge',\n",
       "    'brand': 'UpStart Battery',\n",
       "    'category': ['Appliances',\n",
       "     'Parts & Accessories',\n",
       "     'Refrigerator Parts & Accessories',\n",
       "     'Water Filters'],\n",
       "    'main_category': 'Water Filters',\n",
       "    'model_timestamp': 1678107739,\n",
       "    'model_version': 'ALS_c7f033e91daa',\n",
       "    'model_factor': [0.0,\n",
       "     0.0,\n",
       "     0.0338403,\n",
       "     0.35392785,\n",
       "     0.0,\n",
       "     0.0,\n",
       "     0.82033634,\n",
       "     0.0,\n",
       "     1.6674967,\n",
       "     1.234696,\n",
       "     0.06458564,\n",
       "     0.0,\n",
       "     0.57508945,\n",
       "     1.6622597,\n",
       "     0.7817885,\n",
       "     0.07846934,\n",
       "     0.0,\n",
       "     0.68075746,\n",
       "     2.210265,\n",
       "     0.2431119,\n",
       "     0.18984355,\n",
       "     0.0,\n",
       "     0.8522434,\n",
       "     0.0,\n",
       "     0.11638787]}},\n",
       "  {'_index': 'products',\n",
       "   '_type': '_doc',\n",
       "   '_id': 'B004443WGC',\n",
       "   '_score': 1.7710297,\n",
       "   '_source': {'asin': 'B004443WGC',\n",
       "    'title': 'GE SmartWater GSWF-3 Refrigerator Water Filter, 3-Pack',\n",
       "    'brand': 'GE',\n",
       "    'category': ['Appliances',\n",
       "     'Parts & Accessories',\n",
       "     'Refrigerator Parts & Accessories',\n",
       "     'Water Filters'],\n",
       "    'main_category': 'Water Filters',\n",
       "    'model_timestamp': 1678107739,\n",
       "    'model_version': 'ALS_c7f033e91daa',\n",
       "    'model_factor': [0.2706844,\n",
       "     0.080737494,\n",
       "     0.52427113,\n",
       "     0.15337737,\n",
       "     0.5433903,\n",
       "     0.26097408,\n",
       "     0.03510222,\n",
       "     0.35816452,\n",
       "     0.85760534,\n",
       "     1.5488018,\n",
       "     0.0022056766,\n",
       "     0.110304885,\n",
       "     0.29657286,\n",
       "     0.6497128,\n",
       "     0.26132762,\n",
       "     0.67642564,\n",
       "     0.026411716,\n",
       "     0.11756197,\n",
       "     1.2837783,\n",
       "     0.74264,\n",
       "     0.6129473,\n",
       "     0.63999915,\n",
       "     0.045085754,\n",
       "     0.19704677,\n",
       "     0.75949484]}},\n",
       "  {'_index': 'products',\n",
       "   '_type': '_doc',\n",
       "   '_id': 'B00YD2TEZS',\n",
       "   '_score': 1.7608632,\n",
       "   '_source': {'asin': 'B00YD2TEZS',\n",
       "    'title': '2-Pack Replacement Samsung RFG298HDBP Refrigerator Water Filter - Compatible Samsung DA29-00020B, DA29-00020A, HAF-CIN Fridge Water Filter Cartridge',\n",
       "    'brand': 'UpStart Battery',\n",
       "    'category': ['Appliances',\n",
       "     'Parts & Accessories',\n",
       "     'Refrigerator Parts & Accessories',\n",
       "     'Water Filters'],\n",
       "    'main_category': 'Water Filters',\n",
       "    'model_timestamp': 1678107739,\n",
       "    'model_version': 'ALS_c7f033e91daa',\n",
       "    'model_factor': [0.21324559,\n",
       "     0.35641775,\n",
       "     0.0003575665,\n",
       "     0.18909913,\n",
       "     0.015563362,\n",
       "     0.00135232,\n",
       "     0.40048218,\n",
       "     1.554813,\n",
       "     0.008370857,\n",
       "     0.51878154,\n",
       "     0.286436,\n",
       "     0.0433598,\n",
       "     0.06178903,\n",
       "     1.5421178,\n",
       "     0.013561722,\n",
       "     0.18806385,\n",
       "     0.0062944246,\n",
       "     1.9363058,\n",
       "     2.6655927,\n",
       "     0.99343497,\n",
       "     0.15366615,\n",
       "     0.00090540596,\n",
       "     0.20758829,\n",
       "     0.12005559,\n",
       "     0.61813635]}}])"
      ]
     },
     "execution_count": 32,
     "metadata": {},
     "output_type": "execute_result"
    }
   ],
   "source": [
    "get_similar(the_id='B0115XWE68', num=10, index='products', vector_field='model_factor')"
   ]
  },
  {
   "cell_type": "code",
   "execution_count": 37,
   "id": "3faf2d42",
   "metadata": {},
   "outputs": [
    {
     "data": {
      "text/html": [
       "<h2>Get similar products for:</h2>"
      ],
      "text/plain": [
       "<IPython.core.display.HTML object>"
      ]
     },
     "metadata": {},
     "output_type": "display_data"
    },
    {
     "data": {
      "text/html": [
       "<h4>Electricord A1459-006-BL Appliance and Power Tool Extension Cord/3-Outlet, 6-Ft (ASIN - B00004X18E)</h4>"
      ],
      "text/plain": [
       "<IPython.core.display.HTML object>"
      ]
     },
     "metadata": {},
     "output_type": "display_data"
    },
    {
     "data": {
      "text/html": [
       "<br>"
      ],
      "text/plain": [
       "<IPython.core.display.HTML object>"
      ]
     },
     "metadata": {},
     "output_type": "display_data"
    },
    {
     "data": {
      "text/html": [
       "<h2>People who liked this product also liked these:</h2>"
      ],
      "text/plain": [
       "<IPython.core.display.HTML object>"
      ]
     },
     "metadata": {},
     "output_type": "display_data"
    },
    {
     "name": "stderr",
     "output_type": "stream",
     "text": [
      "C:\\Users\\MEHTA\\anaconda3\\envs\\py37\\lib\\site-packages\\ipykernel_launcher.py:98: FutureWarning: Passing a negative integer is deprecated in version 1.0 and will not be supported in future version. Instead, use None to not limit the column width.\n"
     ]
    },
    {
     "data": {
      "text/html": [
       "<table border=\"1\" class=\"dataframe\">\n",
       "  <thead>\n",
       "    <tr style=\"text-align: right;\">\n",
       "      <th></th>\n",
       "      <th>asin</th>\n",
       "      <th>title</th>\n",
       "      <th>score</th>\n",
       "    </tr>\n",
       "  </thead>\n",
       "  <tbody>\n",
       "    <tr>\n",
       "      <th>0</th>\n",
       "      <td>B00D8LCXGM</td>\n",
       "      <td>5304468030 Frigidaire Refrigerator Relay and Plug Kit</td>\n",
       "      <td>1.849272</td>\n",
       "    </tr>\n",
       "    <tr>\n",
       "      <th>1</th>\n",
       "      <td>B004XLE5SK</td>\n",
       "      <td>Whirlpool 2200859 Thermostat for Refrigerator</td>\n",
       "      <td>1.833846</td>\n",
       "    </tr>\n",
       "    <tr>\n",
       "      <th>2</th>\n",
       "      <td>B0027U9LVU</td>\n",
       "      <td>Whirlpool Part Number W10160648: Knob, Control (Wh</td>\n",
       "      <td>1.809704</td>\n",
       "    </tr>\n",
       "    <tr>\n",
       "      <th>3</th>\n",
       "      <td>B00LHR2ACQ</td>\n",
       "      <td>Whirlpool W10409079  Drain Pump - Water</td>\n",
       "      <td>1.795708</td>\n",
       "    </tr>\n",
       "    <tr>\n",
       "      <th>4</th>\n",
       "      <td>B0026L02Y0</td>\n",
       "      <td>Smart Choice - Stainless Steel Waterline Installation Kit</td>\n",
       "      <td>1.787738</td>\n",
       "    </tr>\n",
       "  </tbody>\n",
       "</table>"
      ],
      "text/plain": [
       "<IPython.core.display.HTML object>"
      ]
     },
     "metadata": {},
     "output_type": "display_data"
    },
    {
     "data": {
      "text/html": [
       "<table border=0><tr><td><h5>5304468030 Frigidaire Refrigerator Relay and Plug Kit</h5><img src=https://via.placeholder.com/150 width=150></img></td><td><h5>1.849</h5></td></tr><tr><td><h5>Whirlpool 2200859 Thermostat for Refrigerator</h5><img src=https://via.placeholder.com/150 width=150></img></td><td><h5>1.834</h5></td></tr><tr><td><h5>Whirlpool Part Number W10160648: Knob, Control (Wh</h5><img src=https://via.placeholder.com/150 width=150></img></td><td><h5>1.810</h5></td></tr><tr><td><h5>Whirlpool W10409079  Drain Pump - Water</h5><img src=https://via.placeholder.com/150 width=150></img></td><td><h5>1.796</h5></td></tr><tr><td><h5>Smart Choice - Stainless Steel Waterline Installation Kit</h5><img src=https://via.placeholder.com/150 width=150></img></td><td><h5>1.788</h5></td></tr></table>"
      ],
      "text/plain": [
       "<IPython.core.display.HTML object>"
      ]
     },
     "metadata": {},
     "output_type": "display_data"
    }
   ],
   "source": [
    "data1 = display_similar('B00004X18E', num=5)"
   ]
  },
  {
   "cell_type": "code",
   "execution_count": null,
   "id": "37d7e072",
   "metadata": {},
   "outputs": [],
   "source": []
  }
 ],
 "metadata": {
  "kernelspec": {
   "display_name": "Python 3 (ipykernel)",
   "language": "python",
   "name": "python3"
  },
  "language_info": {
   "codemirror_mode": {
    "name": "ipython",
    "version": 3
   },
   "file_extension": ".py",
   "mimetype": "text/x-python",
   "name": "python",
   "nbconvert_exporter": "python",
   "pygments_lexer": "ipython3",
   "version": "3.7.16"
  }
 },
 "nbformat": 4,
 "nbformat_minor": 5
}
